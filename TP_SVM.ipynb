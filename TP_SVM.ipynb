{
 "cells": [
  {
   "cell_type": "markdown",
   "id": "2e838e98-86d2-468a-a1ae-a0a668f7cc7a",
   "metadata": {
    "tags": []
   },
   "source": [
    "# TP: Support Vector Machines (SVM) & kernel methods"
   ]
  },
  {
   "cell_type": "markdown",
   "id": "ccf7198a-776a-4afc-9d3a-bcfe91f0b323",
   "metadata": {},
   "source": [
    "Notebook heavily inspired by the [Chloé-Agathe Azencott](http://cazencott.info) and Matthieu Najm's notebooks.\n",
    "\n",
    "In this notebook, we aim to explore SVMs (support vector machines) linear and kernel-based (non-linear).\n",
    "\n",
    "We will try to predict the species of a penguin from its physical characteristics using support vector machines (SVM).\n",
    "For this we will use the *palmerpenguins* dataset, an alternative to the now classic *iris* of scikit-learn. It contains the characteristics of three species of penguins found on the Palmer Archipelago, off the northwest coast of the Antarctic Peninsula.\n",
    "For more information, you can visit the website: https://allisonhorst.github.io/palmerpenguins/index.html"
   ]
  },
  {
   "cell_type": "code",
   "execution_count": null,
   "id": "d53c6b72-7399-4a08-9106-b2a2465e062f",
   "metadata": {},
   "outputs": [],
   "source": [
    "# load numpy as np, matplotlib as plt\n",
    "%pylab inline "
   ]
  },
  {
   "cell_type": "code",
   "execution_count": null,
   "id": "dae22a25-f674-44d2-9a6a-2378edbc89fc",
   "metadata": {},
   "outputs": [],
   "source": [
    "plt.rc('font', **{'size': 12}) # sets the font size globally for plots (in pt)"
   ]
  },
  {
   "cell_type": "code",
   "execution_count": null,
   "id": "304103cf-0107-4fdf-9015-c5c0c0949307",
   "metadata": {},
   "outputs": [],
   "source": [
    "import pandas as pd"
   ]
  },
  {
   "cell_type": "markdown",
   "id": "9551236a-0ed0-44de-87da-a1013e2ad34e",
   "metadata": {
    "tags": []
   },
   "source": [
    "## 1. Loading data"
   ]
  },
  {
   "cell_type": "markdown",
   "id": "3d752a5b-1e1e-42f6-9f84-0a5d28ef4eae",
   "metadata": {},
   "source": [
    "We will try to predict the species of a penguin from its physical characteristics using Support Vector Machines (SVM).\n",
    "\n",
    "For this we will use the *palmerpenguins* dataset, an alternative to the now classic *iris* from scikit-learn.\n",
    "\n",
    "For more information, you can visit the site: https://allisonhorst.github.io/palmerpenguins/index.html\n",
    "\n",
    "It contains the characteristics of three penguin species recorded on the Palmer Archipelago, off the northwest coast of the Antarctic Peninsula."
   ]
  },
  {
   "cell_type": "code",
   "execution_count": null,
   "id": "f6c8aa40-0da7-4770-abca-a64ee4790585",
   "metadata": {},
   "outputs": [],
   "source": [
    "palmerpenguins = pd.read_csv(\"data/penguins_data.csv\")"
   ]
  },
  {
   "cell_type": "markdown",
   "id": "4d1cbda5-d533-41e1-9c37-713a730a20f9",
   "metadata": {},
   "source": [
    "__Alternatively:__ If you need to download the file (e.g. on colab):"
   ]
  },
  {
   "cell_type": "code",
   "execution_count": null,
   "id": "1298927f-449b-4922-bf70-0246226f805d",
   "metadata": {},
   "outputs": [],
   "source": [
    "!wget https://raw.githubusercontent.com/chagaz/cp-ia-intro-ml-2022/main/4-SVM/data/penguins_data.csv\n",
    "\n",
    "palmerpenguins = pd.read_csv(\"penguins_data.csv\")"
   ]
  },
  {
   "cell_type": "code",
   "execution_count": null,
   "id": "6ac4bcab-c017-46a9-b74c-9f4ac21baa07",
   "metadata": {},
   "outputs": [],
   "source": [
    "palmerpenguins.head()"
   ]
  },
  {
   "cell_type": "markdown",
   "id": "faabb531-cec9-449b-9ad1-69245055bf8f",
   "metadata": {},
   "source": [
    "### Data Description"
   ]
  },
  {
   "cell_type": "code",
   "execution_count": null,
   "id": "f9947f5f-d93d-4f5c-96af-80f4e70c4fa6",
   "metadata": {},
   "outputs": [],
   "source": [
    "print(palmerpenguins.shape)"
   ]
  },
  {
   "cell_type": "code",
   "execution_count": null,
   "id": "2ca5a3eb-1dab-446e-824e-76e17580532a",
   "metadata": {},
   "outputs": [],
   "source": [
    "import collections\n",
    "print(collections.Counter(palmerpenguins.species))"
   ]
  },
  {
   "cell_type": "markdown",
   "id": "493c8b2f-7488-4260-842d-f56b6a7e409b",
   "metadata": {},
   "source": [
    "**344** penguins with **8** attributes:\n",
    "- *species*: Adelie (152 penguins), Gentoo (124 penguins) and Ginstrap (68 penguins)\n",
    "- *island*: Biscoe, Dream and Torgersen\n",
    "- *bill_length_mm*: bill length in mm\n",
    "- *bil_depth_mm*: bill width in mm\n",
    "- *flipper_length_mm*: flipper width in mm\n",
    "- *body_mass_g*: weight in g\n",
    "- *sex*: male and female\n",
    "- *year*: year of census"
   ]
  },
  {
   "cell_type": "markdown",
   "id": "6f60fdb5-9c4c-4ff8-930c-b0628d3094e9",
   "metadata": {},
   "source": [
    "### Missing data"
   ]
  },
  {
   "cell_type": "code",
   "execution_count": null,
   "id": "50d4e9c1-7bc3-455f-9279-8b626bf5ebf3",
   "metadata": {},
   "outputs": [],
   "source": [
    "palmerpenguins.isnull().sum()"
   ]
  },
  {
   "cell_type": "markdown",
   "id": "ee8b7b35-bb3c-4e7c-8404-d884f45279f3",
   "metadata": {},
   "source": [
    "You notice that there are some observations for which information is missing. This is called **missing data** (or **missing values**).\n",
    "Here we decide to ignore these observations."
   ]
  },
  {
   "cell_type": "code",
   "execution_count": null,
   "id": "cbcf0dcc-ba64-4334-a9c4-872ddb9e8b6a",
   "metadata": {},
   "outputs": [],
   "source": [
    "palmerpenguins = palmerpenguins[palmerpenguins['bill_depth_mm'].notna()]\n",
    "palmerpenguins = palmerpenguins.reset_index()\n",
    "palmerpenguins.shape"
   ]
  },
  {
   "cell_type": "markdown",
   "id": "cfcb07d1-b619-4454-9cd2-dba59b8769da",
   "metadata": {},
   "source": [
    "So we only have 342 samples left."
   ]
  },
  {
   "cell_type": "markdown",
   "id": "81314377-8784-4116-a100-c9ffd319cc2a",
   "metadata": {},
   "source": [
    "Instead of ignoring incomplete observations, a solution that often turns out to be better (from the point of view of the performance of decision models built from the data) is to **estimate** (or **impute**) the missing data and to treat the estimated values ​​as measured values.\n",
    "\n",
    "For this we could have used the ```SimpleImputer function``` of ```sklearn.impute```. For more information, you can go to the site: https://scikit-learn.org/stable/modules/impute.html#impute"
   ]
  },
  {
   "cell_type": "markdown",
   "id": "e5f2e780-5285-443b-9882-d7d47e5050e0",
   "metadata": {},
   "source": [
    "### Variables"
   ]
  },
  {
   "cell_type": "markdown",
   "id": "531bf458-738b-4707-a222-fca9b1a9fc8b",
   "metadata": {},
   "source": [
    "Subsequently, we will only be interested in the numeric variables *bill_depth_mm*, *bill_length_mm*, *flipper_length_mm* and *body_mass_g*."
   ]
  },
  {
   "cell_type": "code",
   "execution_count": null,
   "id": "f8e2403c-137c-4a4c-b4f1-a6380e5a3cbb",
   "metadata": {},
   "outputs": [],
   "source": [
    "penguins_features = palmerpenguins[[\"bill_length_mm\", \"bill_depth_mm\",\"body_mass_g\", \"flipper_length_mm\"]]"
   ]
  },
  {
   "cell_type": "markdown",
   "id": "9a272921-8828-46a5-b374-6b2aa4a1a4d0",
   "metadata": {},
   "source": [
    "### Labels"
   ]
  },
  {
   "cell_type": "markdown",
   "id": "d560f4a8-6197-4799-bca4-e3bfca8fdd01",
   "metadata": {},
   "source": [
    "We will try to predict the species, which corresponds to **species** but as integers. It will then be easier to handle the species as integers than as text."
   ]
  },
  {
   "cell_type": "code",
   "execution_count": null,
   "id": "dd323ddd-205b-4d01-9eae-eb0810a97df5",
   "metadata": {},
   "outputs": [],
   "source": [
    "species_names, species_int = np.unique(palmerpenguins.species, return_inverse=True)\n",
    "print(species_names)"
   ]
  },
  {
   "cell_type": "code",
   "execution_count": null,
   "id": "128b66ff-b67b-4444-93ba-1d8d65d5a63d",
   "metadata": {},
   "outputs": [],
   "source": [
    "penguins_labels = pd.DataFrame(palmerpenguins[\"species\"])\n",
    "penguins_labels[\"species_int\"] = species_int"
   ]
  },
  {
   "cell_type": "code",
   "execution_count": null,
   "id": "46cf10ac-16de-4357-96f7-fa4935e2b23e",
   "metadata": {},
   "outputs": [],
   "source": [
    "penguins_labels"
   ]
  },
  {
   "cell_type": "markdown",
   "id": "66ce391e-8544-44e5-b919-aaa69b3cfab2",
   "metadata": {},
   "source": [
    "## 2. Linear SVM (linearly separable case)"
   ]
  },
  {
   "cell_type": "markdown",
   "id": "2b80470e-c710-48fc-945b-26a189b3b7e5",
   "metadata": {},
   "source": [
    "Here we will limit ourselves to two species: *Adelie (0)* and *Gentoo (2)* and two variables: *bill_length_mm* and *bill_depth_mm*."
   ]
  },
  {
   "cell_type": "markdown",
   "id": "26217bd0-06ac-4fbd-8b86-02e166d495ae",
   "metadata": {},
   "source": [
    "### Restricting data to the two variables and two chosen labels"
   ]
  },
  {
   "cell_type": "code",
   "execution_count": null,
   "id": "9ebe4cce-0415-4eac-9d56-aaf41755c3bb",
   "metadata": {},
   "outputs": [],
   "source": [
    "labels = penguins_labels[penguins_labels[\"species_int\"].isin([0,2])]\n",
    "labels = np.array(labels[\"species_int\"])\n",
    "print(\"shape de y:\", labels.shape)\n",
    "\n",
    "data = penguins_features[penguins_labels[\"species_int\"].isin([0,2])] \n",
    "data = np.array(data[[\"bill_depth_mm\", \"bill_length_mm\"]])\n",
    "print(\"shape de X:\", data.shape)"
   ]
  },
  {
   "cell_type": "markdown",
   "id": "4e8d0237-b872-44d6-9910-ec0b75c62007",
   "metadata": {
    "tags": []
   },
   "source": [
    "### Data Visualisation "
   ]
  },
  {
   "cell_type": "code",
   "execution_count": null,
   "id": "e728af83-69c0-4cea-94a6-3a51fbc4e460",
   "metadata": {},
   "outputs": [],
   "source": [
    "plt.figure(figsize=(8, 6))\n",
    "\n",
    "# afficher les données (pingouins Adelie)\n",
    "adelie_indices = np.where(labels==0)[0]\n",
    "adelie = plt.scatter(data[adelie_indices][:, 0], \n",
    "                    data[adelie_indices][:, 1], \n",
    "                    label = 'Adelie',\n",
    "                    cmap=plt.cm.Paired)\n",
    "\n",
    "# afficher les données (pingouins Gentoo)\n",
    "gentoo_indices = np.where(labels==2)[0]\n",
    "gentoo = plt.scatter(data[gentoo_indices][:, 0], \n",
    "                    data[gentoo_indices][:, 1], \n",
    "                    label = 'Gentoo',\n",
    "                    cmap=plt.cm.Paired)\n",
    "\n",
    "# Légende\n",
    "plt.legend()\n",
    "plt.xlabel(\"Bill depth (mm)\")\n",
    "plt.ylabel(\"Bill length (mm)\")\n",
    "plt.title(\"Données\")\n",
    "plt.tight_layout()"
   ]
  },
  {
   "cell_type": "markdown",
   "id": "84e389e0-501c-4ac3-9747-779265804f9b",
   "metadata": {},
   "source": [
    "# Q1\n",
    "__Question 1:__ Does the classification problem seem easy or difficult to you? Will you be able to train a linear model?\n",
    "\n",
    "__Answer:__ "
   ]
  },
  {
   "cell_type": "markdown",
   "id": "eb515c8e-a9b0-4dc9-8d18-05b7d166f04f",
   "metadata": {},
   "source": [
    "### Linear SVM"
   ]
  },
  {
   "cell_type": "markdown",
   "id": "1897ee4c-137e-4745-9789-1e1da4d729b2",
   "metadata": {},
   "source": [
    "We will use the [SVC](http://scikit-learn.org/stable/modules/generated/sklearn.svm.SVC.html#sklearn.svm.SVC) class from the `svm` module of scikit-learn to train a linear SVM on this data."
   ]
  },
  {
   "cell_type": "code",
   "execution_count": null,
   "id": "d11d81f8-33b0-408f-960b-f099079d81d8",
   "metadata": {},
   "outputs": [],
   "source": [
    "from sklearn import svm"
   ]
  },
  {
   "cell_type": "code",
   "execution_count": null,
   "id": "e57a34ab-5bad-4ce9-b331-e4e6190fdb28",
   "metadata": {},
   "outputs": [],
   "source": [
    "# initialisation\n",
    "model_svc = svm.SVC(kernel='linear', C=10)\n",
    "\n",
    "# training\n",
    "model_svc.fit(data, labels)"
   ]
  },
  {
   "cell_type": "markdown",
   "id": "aeb289f0-891a-4a7c-b71d-1c1803bb6250",
   "metadata": {},
   "source": [
    "Let's display the predictor's performance:"
   ]
  },
  {
   "cell_type": "code",
   "execution_count": null,
   "id": "d58ebdd4-bf16-42ac-824e-d8842db64f6e",
   "metadata": {},
   "outputs": [],
   "source": [
    "print(\"Linear SVM score(C=10): %.2f\" % model_svc.score(data, labels))"
   ]
  },
  {
   "cell_type": "markdown",
   "id": "8a5a97f0-3b7f-4f7a-b7e1-642f9a5bfe82",
   "metadata": {},
   "source": [
    "# Q2\n",
    "\n",
    "__Question 2:__ What score is this? You can use ```help(model_svc.score)```\n",
    "\n",
    "__Answer 2:__ "
   ]
  },
  {
   "cell_type": "markdown",
   "id": "bbcd2762-8880-49da-b57f-964ed33b5740",
   "metadata": {},
   "source": [
    "# Q3\n",
    "__Question 3:__ What does this performance mean?\n",
    "\n",
    "__Answer 3:__ "
   ]
  },
  {
   "cell_type": "markdown",
   "id": "62273964-dcc0-4d1f-87c8-01373320d15c",
   "metadata": {},
   "source": [
    "We can also display the confusion matrix:"
   ]
  },
  {
   "cell_type": "code",
   "execution_count": null,
   "id": "97d44927-5aff-479e-8e7c-affe7265e200",
   "metadata": {},
   "outputs": [],
   "source": [
    "from sklearn import metrics"
   ]
  },
  {
   "cell_type": "code",
   "execution_count": null,
   "id": "337b6d25-9c26-4640-be32-4dba129b6c30",
   "metadata": {
    "tags": []
   },
   "outputs": [],
   "source": [
    "metrics.ConfusionMatrixDisplay.from_predictions(labels, model_svc.predict(data))"
   ]
  },
  {
   "cell_type": "markdown",
   "id": "8c145800-b2e9-41dd-9e3a-6a7b71f588cd",
   "metadata": {},
   "source": [
    "Alternatively:"
   ]
  },
  {
   "cell_type": "code",
   "execution_count": null,
   "id": "08cfd6c9-0165-425e-848e-e07808fee7a2",
   "metadata": {},
   "outputs": [],
   "source": [
    "metrics.confusion_matrix(labels, model_svc.predict(data))"
   ]
  },
  {
   "cell_type": "markdown",
   "id": "d5b44949-499d-4f90-9792-6a5131a2ca6e",
   "metadata": {
    "tags": []
   },
   "source": [
    "### Separating hyperplane"
   ]
  },
  {
   "cell_type": "markdown",
   "id": "f17a0a2f-1329-4fc8-83ac-cf2ea272af69",
   "metadata": {},
   "source": [
    "We can now visualize the decision boundary:"
   ]
  },
  {
   "cell_type": "code",
   "execution_count": null,
   "id": "520f1b59-dc9c-42d0-bfa1-5b541b2f6636",
   "metadata": {},
   "outputs": [],
   "source": [
    "plt.figure(figsize=(8, 6))\n",
    "\n",
    "# show data (Adelie penguins)\n",
    "adelie_indices = np.where(labels==0)[0]\n",
    "adelie = plt.scatter(data[adelie_indices][:, 0], \n",
    "                    data[adelie_indices][:, 1], \n",
    "                    label = 'Adelie',\n",
    "                    cmap=plt.cm.Paired)\n",
    "\n",
    "# show data (Gentoo penguins)\n",
    "gentoo_indices = np.where(labels==2)[0]\n",
    "gentoo = plt.scatter(data[gentoo_indices][:, 0], \n",
    "                    data[gentoo_indices][:, 1], \n",
    "                    label = 'Gentoo',\n",
    "                    cmap=plt.cm.Paired)\n",
    "\n",
    "# Frame limits\n",
    "ax = plt.gca()\n",
    "xlim = ax.get_xlim()\n",
    "ylim = ax.get_ylim()\n",
    "\n",
    "# Mark the support vectors with a cross\n",
    "ax.scatter(model_svc.support_vectors_[:, 0], \n",
    "           model_svc.support_vectors_[:, 1], \n",
    "           linewidth=1, \n",
    "           marker='x', s=200,\n",
    "           color='k')\n",
    "\n",
    "# Grid of points on which to apply the model\n",
    "xx = np.linspace(xlim[0], xlim[1], 30)\n",
    "yy = np.linspace(ylim[0], ylim[1], 30)\n",
    "YY, XX = np.meshgrid(yy, xx)\n",
    "xy = np.vstack([XX.ravel(), YY.ravel()]).T\n",
    "# Prédire pour les points de la grille\n",
    "Z = model_svc.decision_function(xy).reshape(XX.shape)\n",
    "\n",
    "# Show decision boundary and margin\n",
    "ax.contour(XX, YY, Z, colors='k', levels=[-1, 0, 1], \n",
    "           alpha=0.5, linestyles=['--', '-', '--'])\n",
    "\n",
    "\n",
    "plt.legend()\n",
    "plt.xlabel(\"Bill depth (mm)\")\n",
    "plt.ylabel(\"Bill length (mm)\")\n",
    "plt.title(\"Linear SVM (C=10)\")\n",
    "plt.tight_layout()"
   ]
  },
  {
   "cell_type": "markdown",
   "id": "f577da68-d52a-453f-8f8f-aed40d8e35cb",
   "metadata": {},
   "source": [
    "# Q4\n",
    "__Question 4:__ Which points are support vectors?\n",
    "\n",
    "__Answer 4:__ "
   ]
  },
  {
   "cell_type": "markdown",
   "id": "a0f3b6a7-f3d8-49fb-83b8-ae22d9593714",
   "metadata": {},
   "source": [
    "### With smaller C"
   ]
  },
  {
   "cell_type": "markdown",
   "id": "a232672d-89f2-455f-a912-95c05b4c63cd",
   "metadata": {},
   "source": [
    "# Q5\n",
    "__Question 5:__ What can we expect with a lower C value?\n",
    "\n",
    "__Answer 5:__ "
   ]
  },
  {
   "cell_type": "markdown",
   "id": "e5c9e990-466b-461d-a392-1608d5c4af0c",
   "metadata": {},
   "source": [
    "Let's check this in practice:"
   ]
  },
  {
   "cell_type": "code",
   "execution_count": null,
   "id": "2958660d-6200-4ee3-9c0f-93030e8f19db",
   "metadata": {},
   "outputs": [],
   "source": [
    "# initialisation\n",
    "model_svc_01 = svm.SVC(kernel='linear', C=0.1)\n",
    "\n",
    "# training\n",
    "model_svc_01.fit(data, labels)"
   ]
  },
  {
   "cell_type": "markdown",
   "id": "e992f054-0d00-4d1d-adc7-5ffae1d55a77",
   "metadata": {},
   "source": [
    "Let's display the predictor's performance:"
   ]
  },
  {
   "cell_type": "code",
   "execution_count": null,
   "id": "64521f70-ad3d-4fdd-9862-c91e784745b8",
   "metadata": {},
   "outputs": [],
   "source": [
    "print(\"Linear SVM score (C=0.1): %.2f\" % model_svc_01.score(data, labels))"
   ]
  },
  {
   "cell_type": "code",
   "execution_count": null,
   "id": "7ea50df3-c6e2-4db8-8431-a7620c82df44",
   "metadata": {},
   "outputs": [],
   "source": [
    "metrics.ConfusionMatrixDisplay.from_predictions(labels, model_svc_01.predict(data))"
   ]
  },
  {
   "cell_type": "markdown",
   "id": "d6647bf3-610b-4e96-97f6-a8cdc75b59da",
   "metadata": {},
   "source": [
    "Alternatively :"
   ]
  },
  {
   "cell_type": "code",
   "execution_count": null,
   "id": "f68dee1a-d993-404c-8515-3fd776d0a629",
   "metadata": {},
   "outputs": [],
   "source": [
    "metrics.confusion_matrix(labels, model_svc_01.predict(data))"
   ]
  },
  {
   "cell_type": "markdown",
   "id": "5d3ea73b-d218-4b20-b7f5-2136e870549a",
   "metadata": {},
   "source": [
    "Let's visualize the new decision frontier:"
   ]
  },
  {
   "cell_type": "code",
   "execution_count": null,
   "id": "ae2ba9eb-ee1a-476a-821d-00736769a41a",
   "metadata": {},
   "outputs": [],
   "source": [
    "plt.figure(figsize=(8, 6))\n",
    "\n",
    "adelie_indices = np.where(labels==0)[0]\n",
    "adelie = plt.scatter(data[adelie_indices][:, 0], \n",
    "                    data[adelie_indices][:, 1], \n",
    "                    label = 'Adelie',\n",
    "                    cmap=plt.cm.Paired)\n",
    "\n",
    "gentoo_indices = np.where(labels==2)[0]\n",
    "gentoo = plt.scatter(data[gentoo_indices][:, 0], \n",
    "                    data[gentoo_indices][:, 1], \n",
    "                    label = 'Gentoo',\n",
    "                    cmap=plt.cm.Paired)\n",
    "\n",
    "ax = plt.gca()\n",
    "xlim = ax.get_xlim()\n",
    "ylim = ax.get_ylim()\n",
    "\n",
    "\n",
    "xx = np.linspace(xlim[0], xlim[1], 30)\n",
    "yy = np.linspace(ylim[0], ylim[1], 30)\n",
    "YY, XX = np.meshgrid(yy, xx)\n",
    "xy = np.vstack([XX.ravel(), YY.ravel()]).T\n",
    "# Prédire pour les points de la grille\n",
    "Z = model_svc.decision_function(xy).reshape(XX.shape)\n",
    "\n",
    "\n",
    "\n",
    "\n",
    "ax.scatter(model_svc_01.support_vectors_[:, 0], \n",
    "           model_svc_01.support_vectors_[:, 1], \n",
    "           linewidth=1, \n",
    "           marker='+', s=200,\n",
    "           color='k')\n",
    "\n",
    "\n",
    "xx = np.linspace(xlim[0], xlim[1], 30)\n",
    "yy = np.linspace(ylim[0], ylim[1], 30)\n",
    "YY, XX = np.meshgrid(yy, xx)\n",
    "xy = np.vstack([XX.ravel(), YY.ravel()]).T\n",
    "\n",
    "Z = model_svc_01.decision_function(xy).reshape(XX.shape)\n",
    "\n",
    "\n",
    "ax.contour(XX, YY, Z, colors='g', levels=[-1, 0, 1], \n",
    "           alpha=0.5, linestyles=['--', '-', '--'])\n",
    "\n",
    "\n",
    "plt.legend()\n",
    "plt.xlabel(\"Bill depth (mm)\")\n",
    "plt.ylabel(\"Bill length (mm)\")\n",
    "plt.title(\"Linear SVM (C=0.1)\")\n",
    "plt.tight_layout()"
   ]
  },
  {
   "cell_type": "markdown",
   "id": "21b1d6e4-11cc-4b6e-bc7e-4cc0bf6ed0be",
   "metadata": {
    "tags": []
   },
   "source": [
    "## 3. Linear SVM (non-linearly separable case)"
   ]
  },
  {
   "cell_type": "markdown",
   "id": "f71d6605-2805-42d3-8b2d-bc403a23e59c",
   "metadata": {},
   "source": [
    "Now let's use the two variables *body_mass_g* and *bill_length_mm*."
   ]
  },
  {
   "cell_type": "markdown",
   "id": "1548251f-334c-45dc-8bd0-bd6c0504545d",
   "metadata": {},
   "source": [
    "### Restricting data to the two variables and two chosen labels"
   ]
  },
  {
   "cell_type": "code",
   "execution_count": null,
   "id": "975d9d4e-1b10-4046-b891-b4a53ef0b4b4",
   "metadata": {},
   "outputs": [],
   "source": [
    "labels = penguins_labels[penguins_labels[\"species_int\"].isin([0,2])]\n",
    "labels = np.array(labels[\"species_int\"])\n",
    "print(\"y shape:\", labels.shape)\n",
    "\n",
    "data = penguins_features[penguins_labels[\"species_int\"].isin([0,2])] \n",
    "data = np.array(data[[\"body_mass_g\", \"bill_length_mm\"]])\n",
    "print(\"X shape:\", data.shape)"
   ]
  },
  {
   "cell_type": "markdown",
   "id": "12a2bf93-ecf1-4d7b-a267-a6882dcfec57",
   "metadata": {
    "tags": []
   },
   "source": [
    "### Data visualisation"
   ]
  },
  {
   "cell_type": "code",
   "execution_count": null,
   "id": "a3c6f409-1c6e-4953-a30e-43d16fc1bda7",
   "metadata": {},
   "outputs": [],
   "source": [
    "plt.figure(figsize=(8, 6))\n",
    "\n",
    "# show data (Adelie penguins)\n",
    "adelie_indices = np.where(labels==0)[0]\n",
    "adelie = plt.scatter(data[adelie_indices][:, 0], \n",
    "                    data[adelie_indices][:, 1], \n",
    "                    label = 'Adelie',\n",
    "                    cmap=plt.cm.Paired)\n",
    "\n",
    "# show data (Gentoo penguins)\n",
    "gentoo_indices = np.where(labels==2)[0]\n",
    "gentoo = plt.scatter(data[gentoo_indices][:, 0], \n",
    "                    data[gentoo_indices][:, 1], \n",
    "                    label = 'Gentoo',\n",
    "                    cmap=plt.cm.Paired)\n",
    "\n",
    "# Legend\n",
    "plt.legend()\n",
    "plt.xlabel(\"Body mass (g)\")\n",
    "plt.ylabel(\"Bill length (mm)\")\n",
    "plt.title(\"Données\")\n",
    "plt.tight_layout()"
   ]
  },
  {
   "cell_type": "markdown",
   "id": "1757c4e0-fd7d-4f65-8993-0baace22860b",
   "metadata": {},
   "source": [
    "# Q6\n",
    "__Question 6:__ Does the classification problem seem easy or difficult to you? Will you be able to train a linear model?\n",
    "\n",
    "__Answer 6:__ "
   ]
  },
  {
   "cell_type": "markdown",
   "id": "0c32f36e-1746-4f63-bfbe-523d9fe4f27c",
   "metadata": {},
   "source": [
    "# Q7\n",
    "__Question 7:__ What do you think of the scales taken by the two variables?\n",
    "\n",
    "__Answer 7:__ "
   ]
  },
  {
   "cell_type": "markdown",
   "id": "b874f241-449e-4a72-a57b-579357703109",
   "metadata": {},
   "source": [
    "### Transforming variables\n",
    "\n",
    "Now we will center-reduce the data."
   ]
  },
  {
   "cell_type": "code",
   "execution_count": null,
   "id": "4dc8076c-44eb-42e9-b7bc-992fa79ccebe",
   "metadata": {},
   "outputs": [],
   "source": [
    "from sklearn import preprocessing"
   ]
  },
  {
   "cell_type": "code",
   "execution_count": null,
   "id": "5fc7c96d-3580-4373-97f2-5af0cac02f00",
   "metadata": {},
   "outputs": [],
   "source": [
    "# standardization (center-reduce)\n",
    "std_scaler = preprocessing.StandardScaler().fit(data)\n",
    "data_scaled = std_scaler.transform(data)"
   ]
  },
  {
   "cell_type": "code",
   "execution_count": null,
   "id": "d6513963-eea6-4a1e-a196-2ad5aa373ae3",
   "metadata": {},
   "outputs": [],
   "source": [
    "plt.figure(figsize=(8, 6))\n",
    "\n",
    "#show data (Adelie penguins)\n",
    "adelie_indices = np.where(labels==0)[0]\n",
    "adelie = plt.scatter(data_scaled[adelie_indices][:, 0], \n",
    "                    data_scaled[adelie_indices][:, 1], \n",
    "                    label = 'Adelie',\n",
    "                    cmap=plt.cm.Paired)\n",
    "\n",
    "# show data (Gentoo penguins)\n",
    "gentoo_indices = np.where(labels==2)[0]\n",
    "gentoo = plt.scatter(data_scaled[gentoo_indices][:, 0], \n",
    "                    data_scaled[gentoo_indices][:, 1], \n",
    "                    label = 'Gentoo',\n",
    "                    cmap=plt.cm.Paired)\n",
    "\n",
    "# Legend\n",
    "plt.legend()\n",
    "plt.xlabel(\"Body mass (centered-reduced)\")\n",
    "plt.ylabel(\"Bill length (centered-reduced)\")\n",
    "plt.title(\"Centered-reduced data\")\n",
    "plt.tight_layout()"
   ]
  },
  {
   "cell_type": "markdown",
   "id": "25389c11-a130-4c56-9045-063e47c08afd",
   "metadata": {},
   "source": [
    "### Linear SVM"
   ]
  },
  {
   "cell_type": "code",
   "execution_count": null,
   "id": "d9e34925-8122-4e19-a382-c9081c87d772",
   "metadata": {},
   "outputs": [],
   "source": [
    "# initialisation\n",
    "model_svc = svm.SVC(kernel='linear', C=10)\n",
    "\n",
    "# training\n",
    "model_svc.fit(data_scaled, labels)"
   ]
  },
  {
   "cell_type": "markdown",
   "id": "9680ceb4-5d43-425c-b21c-d5c53d1c1a38",
   "metadata": {},
   "source": [
    "Let's display the predictor's performance:"
   ]
  },
  {
   "cell_type": "code",
   "execution_count": null,
   "id": "a52dd6e2-b83d-4fc0-b63e-fd90fc20adc5",
   "metadata": {},
   "outputs": [],
   "source": [
    "print(\"Linear SVM score (C=10): %.2f\" % model_svc.score(data_scaled, labels))"
   ]
  },
  {
   "cell_type": "code",
   "execution_count": null,
   "id": "2fe38d01-72e4-48c2-89c6-be8cdf733cbd",
   "metadata": {},
   "outputs": [],
   "source": [
    "metrics.ConfusionMatrixDisplay.from_predictions(labels, model_svc.predict(data_scaled))"
   ]
  },
  {
   "cell_type": "markdown",
   "id": "2ef6a9e9-dd99-4964-bd41-624bf12f2fe5",
   "metadata": {},
   "source": [
    "Alternatively :"
   ]
  },
  {
   "cell_type": "code",
   "execution_count": null,
   "id": "3acb2392-3d00-4bce-92b7-102e19acdef1",
   "metadata": {},
   "outputs": [],
   "source": [
    "metrics.confusion_matrix(labels, model_svc.predict(data_scaled))"
   ]
  },
  {
   "cell_type": "markdown",
   "id": "6e7d9bca-089a-43d5-905d-51afdf851f3b",
   "metadata": {},
   "source": [
    "# Q8\n",
    "__Question 8:__ Does this performance meet your expectations?\n",
    "\n",
    "__Answer 8:__ "
   ]
  },
  {
   "cell_type": "markdown",
   "id": "6b0b3c24-f504-4399-915d-1d46aef0f106",
   "metadata": {
    "tags": []
   },
   "source": [
    "### Separating hyperplane"
   ]
  },
  {
   "cell_type": "markdown",
   "id": "c1edbf64-d75e-4891-b123-b3b82bec5bcc",
   "metadata": {},
   "source": [
    "We can now visualize the decision boundary:"
   ]
  },
  {
   "cell_type": "code",
   "execution_count": null,
   "id": "25016b6a-6ea1-4944-ba52-87e9a5a75fe3",
   "metadata": {},
   "outputs": [],
   "source": [
    "plt.figure(figsize=(8, 6))\n",
    "\n",
    "# show data (Adelie penguins)\n",
    "adelie_indices = np.where(labels==0)[0]\n",
    "adelie = plt.scatter(data_scaled[adelie_indices][:, 0], \n",
    "                    data_scaled[adelie_indices][:, 1], \n",
    "                    label = 'Adelie',\n",
    "                    cmap=plt.cm.Paired)\n",
    "\n",
    "# show data (Gentoo penguins)\n",
    "gentoo_indices = np.where(labels==2)[0]\n",
    "gentoo = plt.scatter(data_scaled[gentoo_indices][:, 0], \n",
    "                    data_scaled[gentoo_indices][:, 1], \n",
    "                    label = 'Gentoo',\n",
    "                    cmap=plt.cm.Paired)\n",
    "\n",
    "\n",
    "# Frame limits\n",
    "ax = plt.gca()\n",
    "xlim = ax.get_xlim()\n",
    "ylim = ax.get_ylim()\n",
    "\n",
    "# Mark the support vectors with a cross\n",
    "ax.scatter(model_svc.support_vectors_[:, 0], \n",
    "           model_svc.support_vectors_[:, 1], \n",
    "           linewidth=1, \n",
    "           marker='x', \n",
    "           color='k')\n",
    "\n",
    "# Grid of points on which to apply the model\n",
    "xx = np.linspace(xlim[0], xlim[1], 30)\n",
    "yy = np.linspace(ylim[0], ylim[1], 30)\n",
    "YY, XX = np.meshgrid(yy, xx)\n",
    "xy = np.vstack([XX.ravel(), YY.ravel()]).T\n",
    "# Predict for the grid points\n",
    "Z = model_svc.decision_function(xy).reshape(XX.shape)\n",
    "\n",
    "# Show decision boundary and margin\n",
    "ax.contour(XX, YY, Z, colors='k', levels=[-1, 0, 1], \n",
    "           alpha=0.5, linestyles=['--', '-', '--'])\n",
    "\n",
    "# Legend\n",
    "plt.legend()\n",
    "plt.xlabel(\"Body mass (centered-reduced)\")\n",
    "plt.ylabel(\"Bill length (centered-reduced)\")\n",
    "plt.title(\"Linear SVM decision boundary (C=10)\")\n",
    "plt.tight_layout()"
   ]
  },
  {
   "cell_type": "markdown",
   "id": "7943e685-19a3-4b9f-872f-86a2fde734ac",
   "metadata": {},
   "source": [
    "# Q9 \n",
    "__Question 9:__ Which points are support vectors?\n",
    "\n",
    "__Answer 9:__ "
   ]
  },
  {
   "cell_type": "markdown",
   "id": "42d2a579-117d-408a-92e2-710bae223c40",
   "metadata": {},
   "source": [
    "### With smaller C"
   ]
  },
  {
   "cell_type": "markdown",
   "id": "dd823827-dd6a-4c50-bb01-c41efaada0fe",
   "metadata": {},
   "source": [
    "# Q10\n",
    "__Question 10:__ What can we expect with a lower C value?\n",
    "\n",
    "__Answer 10:__ "
   ]
  },
  {
   "cell_type": "markdown",
   "id": "3a8e6a20-0071-4ecb-8231-af080507b4d0",
   "metadata": {},
   "source": [
    "Let's check this in practice:"
   ]
  },
  {
   "cell_type": "code",
   "execution_count": null,
   "id": "0f1f2d72-eadd-42b7-b05c-d329b15b7327",
   "metadata": {},
   "outputs": [],
   "source": [
    "# initialisation\n",
    "model_svc_01 = svm.SVC(kernel='linear', C=0.01)\n",
    "\n",
    "# training\n",
    "model_svc_01.fit(data_scaled, labels)"
   ]
  },
  {
   "cell_type": "code",
   "execution_count": null,
   "id": "a0e4155b-df14-418f-b6b9-391d7ac32cea",
   "metadata": {},
   "outputs": [],
   "source": [
    "print(\"Linear SVM score (centered-reduced data, C=0.1): %.2f\" % model_svc_01.score(data_scaled, labels))"
   ]
  },
  {
   "cell_type": "code",
   "execution_count": null,
   "id": "2b342fbc-40b1-488b-a919-ab10273854b4",
   "metadata": {},
   "outputs": [],
   "source": [
    "metrics.ConfusionMatrixDisplay.from_predictions(labels, model_svc_01.predict(data_scaled))"
   ]
  },
  {
   "cell_type": "markdown",
   "id": "7320f83c-1715-4f94-aa10-143af141da53",
   "metadata": {},
   "source": [
    "Alternatively:"
   ]
  },
  {
   "cell_type": "code",
   "execution_count": null,
   "id": "c1adef50-8334-4657-a099-423481e2940e",
   "metadata": {},
   "outputs": [],
   "source": [
    "metrics.confusion_matrix(labels, model_svc_01.predict(data_scaled))"
   ]
  },
  {
   "cell_type": "markdown",
   "id": "320bd01d-12d5-4582-b426-8dd71b298383",
   "metadata": {},
   "source": [
    "# Q 11\n",
    "__Question 11:__ How has performance evolved?\n",
    "\n",
    "__Answer 11:__"
   ]
  },
  {
   "cell_type": "markdown",
   "id": "846f00bf-d1a9-4907-bc30-252f0315c2dd",
   "metadata": {},
   "source": [
    "We can now visualize the decision boundary:"
   ]
  },
  {
   "cell_type": "code",
   "execution_count": null,
   "id": "bc04da26-e8a7-4786-a2f1-17db3cd241f8",
   "metadata": {},
   "outputs": [],
   "source": [
    "plt.figure(figsize=(8, 6))\n",
    "\n",
    "# show data (Adelie penguins)\n",
    "adelie = plt.scatter(data_scaled[np.where(penguins_labels[\"species_int\"]==0),0], \n",
    "                    data_scaled[np.where(penguins_labels[\"species_int\"]==0),1], \n",
    "                    s=50, \n",
    "                    label = 'Adelie',\n",
    "                    cmap=plt.cm.Paired)\n",
    "\n",
    "# show data (Gentoo penguins)\n",
    "gentoo = plt.scatter(data_scaled[np.where(penguins_labels[\"species_int\"]==2),0], \n",
    "                    data_scaled[np.where(penguins_labels[\"species_int\"]==2),1], \n",
    "                    label = 'Gentoo',\n",
    "                    cmap=plt.cm.Paired)\n",
    "\n",
    "# Frame limits\n",
    "ax = plt.gca()\n",
    "xlim = ax.get_xlim()\n",
    "ylim = ax.get_ylim()\n",
    "\n",
    "# Mark the support vectors with a cross\n",
    "ax.scatter(model_svc_01.support_vectors_[:, 0], \n",
    "           model_svc_01.support_vectors_[:, 1], \n",
    "           linewidth=1, \n",
    "           marker='x', \n",
    "           color='k')\n",
    "\n",
    "# Grid of points on which to apply the model\n",
    "xx = np.linspace(xlim[0], xlim[1], 30)\n",
    "yy = np.linspace(ylim[0], ylim[1], 30)\n",
    "YY, XX = np.meshgrid(yy, xx)\n",
    "xy = np.vstack([XX.ravel(), YY.ravel()]).T\n",
    "# Predict for the grid points\n",
    "Z = model_svc_01.decision_function(xy).reshape(XX.shape)\n",
    "\n",
    "# Show decision boundary and margin\n",
    "ax.contour(XX, YY, Z, colors='k', levels=[-1, 0, 1], \n",
    "           alpha=0.5, linestyles=['--', '-', '--'])\n",
    "\n",
    "# Previous border\n",
    "# Grid of points on which to apply the model\n",
    "xx = np.linspace(xlim[0], xlim[1], 30)\n",
    "yy = np.linspace(ylim[0], ylim[1], 30)\n",
    "YY, XX = np.meshgrid(yy, xx)\n",
    "xy = np.vstack([XX.ravel(), YY.ravel()]).T\n",
    "# Predict for the grid points\n",
    "Z = model_svc.decision_function(xy).reshape(XX.shape)\n",
    "\n",
    "# Show decision boundary and margin\n",
    "ax.contour(XX, YY, Z, colors='g', levels=[-1, 0, 1], \n",
    "           alpha=0.5, linestyles=['--', '-', '--'])\n",
    "\n",
    "\n",
    "# Legend\n",
    "plt.legend()\n",
    "plt.xlabel(\"Body mass (g)\")\n",
    "plt.ylabel(\"Bill length (mm)\")\n",
    "plt.title(\"Decision boundary of linear SVM (C=0.01)\")\n",
    "plt.tight_layout()"
   ]
  },
  {
   "cell_type": "markdown",
   "id": "a5137801-bd30-437a-ad96-67658fc4fcd0",
   "metadata": {},
   "source": [
    "## 4. Gram Matrix"
   ]
  },
  {
   "cell_type": "markdown",
   "id": "ed6c60c1-b1af-4c85-ae38-99036653da3e",
   "metadata": {},
   "source": [
    "The **kernel** (or **Gram matrix**) can be interpreted as a similarity matrix between the different observations. We then rely on the resemblance of certain observations to be able to classify them.\n",
    "\n",
    "We will represent the Gram matrix associated with the previous classifier. In the case of a linear kernel SVM, this is the scalar product of the variables. So that you can correctly intuit the similarity between the observations, we will reduce ourselves to a matrix with 1s on the diagonal using the *center_an_normalise_kernel()* function."
   ]
  },
  {
   "cell_type": "code",
   "execution_count": null,
   "id": "1f1d7afd-a585-49d4-85c8-9f52ae7c4342",
   "metadata": {},
   "outputs": [],
   "source": [
    "def center_and_normalise_kernel(K_temp):\n",
    "    K_temp = preprocessing.KernelCenterer().fit_transform(K_temp)\n",
    "    nb_item = K_temp.shape[0]\n",
    "    K_norm = np.zeros((nb_item, nb_item))\n",
    "    for i in range(nb_item):\n",
    "        for j in range(i, nb_item):\n",
    "            K_norm[i, j] = K_temp[i, j] / np.sqrt(K_temp[i, i] * K_temp[j, j])\n",
    "            K_norm[j, i] = K_norm[i, j]\n",
    "\n",
    "    return K_norm"
   ]
  },
  {
   "cell_type": "code",
   "execution_count": null,
   "id": "a928e6e3-80ba-495f-8537-386ce0ede878",
   "metadata": {},
   "outputs": [],
   "source": [
    "GramMatrix = np.inner(data_scaled, data_scaled)\n",
    "GramMatrix_scaled = center_and_normalise_kernel(GramMatrix)\n",
    "\n",
    "# heatmap + color map\n",
    "fig, ax = plt.subplots(figsize=(5, 5))\n",
    "plot = ax.imshow(GramMatrix_scaled) \n",
    "\n",
    "# set axes boundaries\n",
    "ax.set_xlim([0, data.shape[0]]) ; ax.set_ylim([0, data_scaled.shape[0]])\n",
    "\n",
    "# flip the y-axis\n",
    "ax.invert_yaxis() ; ax.xaxis.tick_top()\n",
    "\n",
    "# plot colorbar to the right\n",
    "plt.colorbar(plot, pad=0.1, fraction=0.04)"
   ]
  },
  {
   "cell_type": "markdown",
   "id": "dea91691-1e02-4308-9592-9c4b66e5f356",
   "metadata": {},
   "source": [
    "# Q12\n",
    "__Question 12:__ What do you notice? Could you have anticipated that the classifier separates well by looking only at the Gram matrix? Notice that the observations are ordered by labels (first the Adelie penguins then the Gentoo).\n",
    "\n",
    "__Answer 12:__ "
   ]
  },
  {
   "cell_type": "code",
   "execution_count": null,
   "id": "d5193cea",
   "metadata": {},
   "outputs": [],
   "source": [
    "r = GramMatrix.shape[0]\n",
    "pr = np.random.permutation(np.arange(r))\n",
    "GramMatrix_shuffle = GramMatrix_scaled[pr,:]\n",
    "\n",
    "\n",
    "# heatmap + color map\n",
    "fig, ax = plt.subplots(figsize=(5, 5))\n",
    "plot = ax.imshow(GramMatrix_shuffle[pr,:]) \n",
    "\n",
    "# set axes boundaries\n",
    "ax.set_xlim([0, data.shape[0]]) ; ax.set_ylim([0, data.shape[0]])\n",
    "\n",
    "# flip the y-axis\n",
    "ax.invert_yaxis() ; ax.xaxis.tick_top()\n",
    "\n",
    "# plot colorbar to the right\n",
    "plt.colorbar(plot, pad=0.1, fraction=0.04)"
   ]
  },
  {
   "cell_type": "code",
   "execution_count": null,
   "id": "e509ace0",
   "metadata": {},
   "outputs": [],
   "source": [
    "# sort by body_mass_g\n",
    "data_sorted = data_scaled[np.argsort(data_scaled[:,0])]\n",
    "\n",
    "GramMatrix = np.inner(data_sorted, data_sorted)\n",
    "GramMatrix_scaled = center_and_normalise_kernel(GramMatrix)\n",
    "\n",
    "# heatmap + color map\n",
    "fig, ax = plt.subplots(figsize=(5, 5))\n",
    "plot = ax.imshow(GramMatrix_scaled) \n",
    "\n",
    "# set axes boundaries\n",
    "ax.set_xlim([0, data.shape[0]]) ; ax.set_ylim([0, data_sorted.shape[0]])\n",
    "\n",
    "# flip the y-axis\n",
    "ax.invert_yaxis() ; ax.xaxis.tick_top()\n",
    "\n",
    "# plot colorbar to the right\n",
    "plt.colorbar(plot, pad=0.1, fraction=0.04)"
   ]
  },
  {
   "cell_type": "markdown",
   "id": "df3efbec",
   "metadata": {},
   "source": [
    "# Q13\n",
    "__Question 13:__ What do you observe? What should we look out for when we observe a Gram matrix?\n",
    "\n",
    "__Answer 13:__ "
   ]
  },
  {
   "cell_type": "markdown",
   "id": "af2975b0-4f87-433d-9203-6b87803b03c6",
   "metadata": {},
   "source": [
    "## 5. Linear SVM (more difficult case)"
   ]
  },
  {
   "cell_type": "markdown",
   "id": "dd097a7f-77b0-40e3-afaf-c2b38f1f08f6",
   "metadata": {},
   "source": [
    "Now consider the two species *Adelie (0)* and *Chinstrap (1)* and the variables *body_mass_g* and *bill_depth_mm*."
   ]
  },
  {
   "cell_type": "markdown",
   "id": "7713ca46-7b93-47ba-9308-573e9758bd1b",
   "metadata": {},
   "source": [
    "### Restricting data to the two variables and two chosen labels"
   ]
  },
  {
   "cell_type": "code",
   "execution_count": null,
   "id": "b1647b9e-e2a7-4778-b15b-7be10e52bc3e",
   "metadata": {},
   "outputs": [],
   "source": [
    "labels = penguins_labels[penguins_labels[\"species_int\"].isin([0,1])]\n",
    "labels = np.array(labels[\"species_int\"])\n",
    "print(\"shape de y:\", labels.shape)\n",
    "\n",
    "data = penguins_features[penguins_labels[\"species_int\"].isin([0,1])] \n",
    "data = np.array(data[[\"body_mass_g\", \"bill_depth_mm\"]])\n",
    "print(\"shape de X:\", data.shape)"
   ]
  },
  {
   "cell_type": "markdown",
   "id": "d4ff3269-c976-4de1-aceb-d65bf04a9898",
   "metadata": {},
   "source": [
    "### Transforming variables\n",
    "\n",
    "Now we will center-reduce the data."
   ]
  },
  {
   "cell_type": "code",
   "execution_count": null,
   "id": "4d696046-e16e-4414-bd62-dab0dbda60c7",
   "metadata": {},
   "outputs": [],
   "source": [
    "# standardization (center-reduce)\n",
    "std_scaler = preprocessing.StandardScaler().fit(data)\n",
    "data_scaled = std_scaler.transform(data)"
   ]
  },
  {
   "cell_type": "markdown",
   "id": "a6bc6e1a-6187-4995-b4b2-5bbd8145461a",
   "metadata": {
    "tags": []
   },
   "source": [
    "### Data visualisation"
   ]
  },
  {
   "cell_type": "code",
   "execution_count": null,
   "id": "59ca9454-8a1b-4fad-91b0-6600e96073de",
   "metadata": {},
   "outputs": [],
   "source": [
    "plt.figure(figsize=(8, 6))\n",
    "\n",
    "# show data (pingouins Adelie)\n",
    "adelie_indices = np.where(labels==0)[0]\n",
    "adelie = plt.scatter(data_scaled[adelie_indices][:, 0], \n",
    "                    data_scaled[adelie_indices][:, 1], \n",
    "                    label = 'Adelie',\n",
    "                    cmap=plt.cm.Paired)\n",
    "\n",
    "# show data (pingouins Gentoo)\n",
    "gentoo_indices = np.where(labels==1)[0]\n",
    "gentoo = plt.scatter(data_scaled[gentoo_indices][:, 0], \n",
    "                    data_scaled[gentoo_indices][:, 1], \n",
    "                    label = 'Chinstrap',\n",
    "                    cmap=plt.cm.Paired)\n",
    "\n",
    "# Legend\n",
    "plt.legend()\n",
    "plt.xlabel(\"Body mass (centered-reduced)\")\n",
    "plt.ylabel(\"Bill depth (centered-reduced)\")\n",
    "plt.title(\"Centered-reduced data\")\n",
    "plt.tight_layout()"
   ]
  },
  {
   "cell_type": "markdown",
   "id": "7ba2c3b8-ff3a-4950-b3e0-8775cbb2868f",
   "metadata": {},
   "source": [
    "# Q14\n",
    "__Question 14:__ Does the classification problem seem easy or difficult to you? Will you be able to train a linear model?\n",
    "\n",
    "__Answer 14:__ "
   ]
  },
  {
   "cell_type": "markdown",
   "id": "e83391c5-d433-42d1-aa55-745007398701",
   "metadata": {},
   "source": [
    "### Linear SVM"
   ]
  },
  {
   "cell_type": "code",
   "execution_count": null,
   "id": "6f61707f-b6fb-4a3c-8fa9-ee2d04576c4b",
   "metadata": {},
   "outputs": [],
   "source": [
    "# initialisation\n",
    "model_svc = svm.SVC(kernel='linear', C=10)\n",
    "\n",
    "# training\n",
    "model_svc.fit(data_scaled, labels)"
   ]
  },
  {
   "cell_type": "markdown",
   "id": "4e2dc8e4-34d7-4527-8502-a01742cc02de",
   "metadata": {},
   "source": [
    "Let's display the predictor's performance:"
   ]
  },
  {
   "cell_type": "code",
   "execution_count": null,
   "id": "1cf3baa7-0b15-4d3c-b3fe-bbab6a7bc2e3",
   "metadata": {},
   "outputs": [],
   "source": [
    "print(\"Linear SVM score (C=10): %.2f\" % model_svc.score(data_scaled, labels))"
   ]
  },
  {
   "cell_type": "markdown",
   "id": "74e6ad5b-f3d2-42b4-b596-89d9fc95f16a",
   "metadata": {},
   "source": [
    "# Q15\n",
    "__Question 15:__ Does this performance meet your expectations?\n",
    "\n",
    "__Answer 15:__"
   ]
  },
  {
   "cell_type": "code",
   "execution_count": null,
   "id": "ab22431a-5be3-468e-b1a9-72f873bd81c7",
   "metadata": {},
   "outputs": [],
   "source": [
    "metrics.ConfusionMatrixDisplay.from_predictions(labels, model_svc.predict(data_scaled))"
   ]
  },
  {
   "cell_type": "markdown",
   "id": "df5bfe85-ddd0-46a6-a034-15961f8e3b98",
   "metadata": {},
   "source": [
    "Alternatively :"
   ]
  },
  {
   "cell_type": "code",
   "execution_count": null,
   "id": "42c4357d-1996-4c3d-9bb0-8cc957a5ee94",
   "metadata": {},
   "outputs": [],
   "source": [
    "metrics.confusion_matrix(labels, model_svc.predict(data_scaled))"
   ]
  },
  {
   "cell_type": "markdown",
   "id": "3653c2fc-c4b1-4c8f-a666-7d4c53c345ad",
   "metadata": {},
   "source": [
    "# Q16\n",
    "__Question 16:__ What have we really learned here?\n",
    "\n",
    "__Answer 16:__ "
   ]
  },
  {
   "cell_type": "markdown",
   "id": "4384c388-4dc4-4ea3-9d4f-8eb27eb1f88f",
   "metadata": {},
   "source": [
    "We can now visualize the decision boundary:"
   ]
  },
  {
   "cell_type": "code",
   "execution_count": null,
   "id": "ebf2bf9a-e7f8-4472-9c92-f70e3f88d4b4",
   "metadata": {},
   "outputs": [],
   "source": [
    "plt.figure(figsize=(8, 6))\n",
    "\n",
    "# show data (pingouins Adelie)\n",
    "adelie_indices = np.where(labels==0)[0]\n",
    "adelie = plt.scatter(data_scaled[adelie_indices][:, 0], \n",
    "                    data_scaled[adelie_indices][:, 1], \n",
    "                    label = 'Adelie',\n",
    "                    cmap=plt.cm.Paired)\n",
    "\n",
    "# show data (pingouins Gentoo)\n",
    "gentoo_indices = np.where(labels==1)[0]\n",
    "gentoo = plt.scatter(data_scaled[gentoo_indices][:, 0], \n",
    "                    data_scaled[gentoo_indices][:, 1], \n",
    "                    label = 'Chinstrap',\n",
    "                    cmap=plt.cm.Paired)\n",
    "\n",
    "\n",
    "# Frame limits\n",
    "ax = plt.gca()\n",
    "xlim = ax.get_xlim()\n",
    "ylim = ax.get_ylim()\n",
    "\n",
    "# Mark the support vectors with a cross\n",
    "ax.scatter(model_svc.support_vectors_[:, 0], \n",
    "           model_svc.support_vectors_[:, 1], \n",
    "           linewidth=1, \n",
    "           marker='x', \n",
    "           color='k')\n",
    "\n",
    "# Grid of points on which to apply the model\n",
    "xx = np.linspace(xlim[0], xlim[1], 30)\n",
    "yy = np.linspace(ylim[0], ylim[1], 30)\n",
    "YY, XX = np.meshgrid(yy, xx)\n",
    "xy = np.vstack([XX.ravel(), YY.ravel()]).T\n",
    "# Predict for the grid points\n",
    "Z = model_svc.decision_function(xy).reshape(XX.shape)\n",
    "\n",
    "# Show decision boundary and margin\n",
    "ax.contour(XX, YY, Z, colors='k', levels=[-1, 0, 1], \n",
    "           alpha=0.5, linestyles=['--', '-', '--'])\n",
    "\n",
    "#   Legend\n",
    "plt.legend()\n",
    "plt.xlabel(\"Body mass (centered-reduced)\")\n",
    "plt.ylabel(\"Bill depth (centered-reduced)\")\n",
    "plt.title(\"Linear SVM decision boundary (C=10)\")\n",
    "plt.tight_layout()"
   ]
  },
  {
   "cell_type": "markdown",
   "id": "4588892b-34ab-4d13-8d6d-d29c2089d668",
   "metadata": {},
   "source": [
    "### Gram matrix"
   ]
  },
  {
   "cell_type": "code",
   "execution_count": null,
   "id": "af742960-7808-49e0-8d10-0fceb980b02c",
   "metadata": {},
   "outputs": [],
   "source": [
    "GramMatrix = np.inner(data_scaled, data_scaled)\n",
    "GramMatrix_scaled = center_and_normalise_kernel(GramMatrix)\n",
    "\n",
    "# heatmap + color map\n",
    "fig, ax = plt.subplots(figsize=(5, 5))\n",
    "plot = ax.imshow(GramMatrix_scaled) \n",
    "\n",
    "# set axes boundaries\n",
    "ax.set_xlim([0, data.shape[0]]) ; ax.set_ylim([0, data_scaled.shape[0]])\n",
    "\n",
    "# flip the y-axis\n",
    "ax.invert_yaxis() ; ax.xaxis.tick_top()\n",
    "\n",
    "# plot colorbar to the right\n",
    "plt.colorbar(plot, pad=0.1, fraction=0.04)"
   ]
  },
  {
   "cell_type": "markdown",
   "id": "dd6cc0ea-a84c-47d2-8854-e11a0c8d83cb",
   "metadata": {},
   "source": [
    "# Q17\n",
    "__Question 17:__ What do you observe now?\n",
    "\n",
    "__Answer 17:__ "
   ]
  },
  {
   "cell_type": "markdown",
   "id": "c6a723cb-8f63-4372-b1ad-76c1908aa5f5",
   "metadata": {},
   "source": [
    "## 6. Nonlinear Kernel SVM"
   ]
  },
  {
   "cell_type": "markdown",
   "id": "5da151e9-8f3c-4af6-a172-fb1eb726e5e5",
   "metadata": {},
   "source": [
    "### Gaussian RBF Kernel\n",
    "\n",
    "We will use a **RBF kernel** or **Gaussian Radial kernel**, for several values ​​of the gamma parameter. In class we gave the formula of the Gaussian kernel:\n",
    "\n",
    "$k(x, x') = \\exp\\bigg[-\\frac{||x - x'||^2}{2 \\sigma^2}\\bigg]$\n",
    "\n",
    "Another definition involves the gamma parameter, $\\gamma=\\frac{1}{2 \\sigma^{2}}$ :\n",
    "\n",
    "$k(x,x')=\\exp\\bigg[(-\\gamma\\||x - x'||^2\\bigg]$"
   ]
  },
  {
   "cell_type": "markdown",
   "id": "4d27664c-31e3-4386-bb7b-e5ccd20122f6",
   "metadata": {
    "jp-MarkdownHeadingCollapsed": true,
    "tags": []
   },
   "source": [
    "Gamma is proportional to the inverse of the square of sigma, which corresponds to the *bandwidth* of the kernel, or more intuitively the radius of influence of the train set observations.\n",
    "If **sigma is large** (so **gamma small**) then the train set observations will have a long-range influence, and the majority of them will have an influence on the decision boundary.\n",
    "This will therefore be \"coarse\" and smooth, even if some predictions are wrong.\n",
    "\n",
    "If **sigma is small** (so **gamma large**) then the train set observations will have a short-range influence, and only those close to the decision boundary will have a local influence.\n",
    "The decision boundary will therefore be \"precise\" but we will tend to overfit.\n",
    "\n",
    "You can find a clear and detailed explanation  here: https://scikit-learn.org/stable/auto_examples/svm/plot_rbf_parameters.html"
   ]
  },
  {
   "cell_type": "markdown",
   "id": "f84f376c-d9df-418c-a04f-d730f8a5ee95",
   "metadata": {},
   "source": [
    "### Gaussian kernel SVM (gamma=100)"
   ]
  },
  {
   "cell_type": "code",
   "execution_count": null,
   "id": "e7c91f30-bda4-46c2-969e-d859ab17499c",
   "metadata": {},
   "outputs": [],
   "source": [
    "# initialisation\n",
    "model_svc_rbf = svm.SVC(kernel='rbf', C=10, gamma=100)\n",
    "\n",
    "# training\n",
    "model_svc_rbf.fit(data_scaled, labels)"
   ]
  },
  {
   "cell_type": "markdown",
   "id": "1477e84e-3f2d-413d-b52e-01495813fd0d",
   "metadata": {},
   "source": [
    "Let's display the predictor's performance:"
   ]
  },
  {
   "cell_type": "code",
   "execution_count": null,
   "id": "11ca4974-026f-46dc-89bf-c7c1a274e240",
   "metadata": {},
   "outputs": [],
   "source": [
    "print(\"Gaussian Kernel SVM Score (C=10, gamma=100): %.2f\" % model_svc_rbf.score(data_scaled, labels))"
   ]
  },
  {
   "cell_type": "code",
   "execution_count": null,
   "id": "189dad2d-2250-448f-ae16-36c722587482",
   "metadata": {},
   "outputs": [],
   "source": [
    "metrics.ConfusionMatrixDisplay.from_predictions(labels, model_svc_rbf.predict(data_scaled))"
   ]
  },
  {
   "cell_type": "markdown",
   "id": "d813d9cb-7da6-4bdf-b3e1-aee38a474db8",
   "metadata": {},
   "source": [
    "Alternatively :"
   ]
  },
  {
   "cell_type": "code",
   "execution_count": null,
   "id": "75a4320f-fbe2-4859-a719-96c8915047ce",
   "metadata": {},
   "outputs": [],
   "source": [
    "metrics.confusion_matrix(labels, model_svc_rbf.predict(data_scaled))"
   ]
  },
  {
   "cell_type": "markdown",
   "id": "c9d719c5-727c-4e47-b351-5e4600f93232",
   "metadata": {},
   "source": [
    "# Q18\n",
    "__Question 18:__ Does this performance meet your expectations?\n",
    "\n",
    "__Answer 18:__ "
   ]
  },
  {
   "cell_type": "markdown",
   "id": "41b47828-66f0-48d3-8dab-e7b213a791c1",
   "metadata": {},
   "source": [
    "#### Decision boundary"
   ]
  },
  {
   "cell_type": "markdown",
   "id": "6de79b0b-1374-4fb7-87a0-5b0aa0141917",
   "metadata": {},
   "source": [
    "We can now visualize the decision boundary:"
   ]
  },
  {
   "cell_type": "code",
   "execution_count": null,
   "id": "6f224844-7e58-4287-8cc3-84a9ade9dc8e",
   "metadata": {},
   "outputs": [],
   "source": [
    "plt.figure(figsize=(8, 6))\n",
    "\n",
    "# data display (Adelie penguins)\n",
    "adelie_indices = np.where(labels==0)[0]\n",
    "adelie = plt.scatter(data_scaled[adelie_indices][:, 0], \n",
    "                    data_scaled[adelie_indices][:, 1], \n",
    "                    label = 'Adelie',\n",
    "                    cmap=plt.cm.Paired)\n",
    "\n",
    "# data display (Gentoo penguins)\n",
    "gentoo_indices = np.where(labels==1)[0]\n",
    "gentoo = plt.scatter(data_scaled[gentoo_indices][:, 0], \n",
    "                    data_scaled[gentoo_indices][:, 1], \n",
    "                    label = 'Chinstrap',\n",
    "                    cmap=plt.cm.Paired)\n",
    "\n",
    "\n",
    "# Frame limits\n",
    "ax = plt.gca()\n",
    "xlim = ax.get_xlim()\n",
    "ylim = ax.get_ylim()\n",
    "\n",
    "# Mark the support vectors with a cross\n",
    "ax.scatter(model_svc_rbf.support_vectors_[:, 0], \n",
    "           model_svc_rbf.support_vectors_[:, 1], \n",
    "           linewidth=1, \n",
    "           marker='x', \n",
    "           color='k')\n",
    "\n",
    "#   Grid of points on which to apply the model\n",
    "xx = np.linspace(xlim[0], xlim[1], 30)\n",
    "yy = np.linspace(ylim[0], ylim[1], 30)\n",
    "YY, XX = np.meshgrid(yy, xx)\n",
    "xy = np.vstack([XX.ravel(), YY.ravel()]).T\n",
    "# Predict for the grid points\n",
    "Z = model_svc_rbf.decision_function(xy).reshape(XX.shape)\n",
    "\n",
    "# Show decision boundary and margin\n",
    "ax.contour(XX, YY, Z, colors='k', levels=[-1, 0, 1], \n",
    "           alpha=0.5, linestyles=['--', '-', '--'])\n",
    "\n",
    "# Legend\n",
    "plt.legend()\n",
    "plt.xlabel(\"Body mass (centered-reduced)\")\n",
    "plt.ylabel(\"Bill depth (centered-reduced)\")\n",
    "plt.title(\"Decision boundary of Gaussian kernel SVM (C=10, Gamma=100)\")\n",
    "plt.tight_layout()"
   ]
  },
  {
   "cell_type": "markdown",
   "id": "ad9ebf9a-6f13-417e-a8ae-eadb84e33dfa",
   "metadata": {},
   "source": [
    "# Q19\n",
    "__Question 19:__ What do you think about this decision boundary? Is there a risk of overfitting?\n",
    "\n",
    "__Answer 19:__ "
   ]
  },
  {
   "cell_type": "markdown",
   "id": "971cf2fb-5154-4aea-ad78-2d2ad95da79e",
   "metadata": {},
   "source": [
    "#### Gram matrix"
   ]
  },
  {
   "cell_type": "code",
   "execution_count": null,
   "id": "7657a013-4532-416c-a5db-3ea7afebc8d0",
   "metadata": {},
   "outputs": [],
   "source": [
    "GramMatrix = metrics.pairwise.rbf_kernel(data_scaled, gamma=100)\n",
    "GramMatrix_scaled = center_and_normalise_kernel(GramMatrix)\n",
    "\n",
    "# heatmap + color map\n",
    "fig, ax = plt.subplots(figsize=(5, 5))\n",
    "plot = ax.imshow(GramMatrix_scaled) \n",
    "\n",
    "# set axes boundaries\n",
    "ax.set_xlim([0, data.shape[0]]) ; ax.set_ylim([0, data_scaled.shape[0]])\n",
    "\n",
    "# flip the y-axis\n",
    "ax.invert_yaxis() ; ax.xaxis.tick_top()\n",
    "\n",
    "# plot colorbar to the right\n",
    "plt.colorbar(plot, pad=0.1, fraction=0.04)"
   ]
  },
  {
   "cell_type": "markdown",
   "id": "ae86c1cf-22ed-4db5-891f-39ec5bb1b0cf",
   "metadata": {},
   "source": [
    "# Q20\n",
    "\n",
    "__Question 20:__ What do you think of this Gram matrix?\n",
    "__Answer 20:__ "
   ]
  },
  {
   "cell_type": "markdown",
   "id": "a8cb542b-8463-4633-b54b-dac9170f42b4",
   "metadata": {
    "tags": []
   },
   "source": [
    "### Generalization\n",
    "\n",
    "Does this model __generalize__ well, in other words, will it be able to make good predictions on new data that we did not use to build it?\n",
    "\n",
    "To find out, we will split the data into a __training set__ and a __testing set__. We will train our SVMs on the training set only, and measure their performance on the testing set. The testing set, being unknown at the time of training, is considered new data. To do this, we will use the [train_test_split](http://scikit-learn.org/stable/modules/generated/sklearn.model_selection.train_test_split.html) function of scikit-learn.\n",
    "\n",
    "We need to split on the unstandardized variables, standardize the training set, and then standardize the testing set based on the variance and mean of the train set variables."
   ]
  },
  {
   "cell_type": "code",
   "execution_count": null,
   "id": "daae8ed9-6003-4311-9539-8ca430a0cfcc",
   "metadata": {},
   "outputs": [],
   "source": [
    "from sklearn import model_selection"
   ]
  },
  {
   "cell_type": "code",
   "execution_count": null,
   "id": "de3926d5-bdb4-4eb7-bb58-c063ddd88a0b",
   "metadata": {},
   "outputs": [],
   "source": [
    "X_train, X_test, y_train, y_test = model_selection.train_test_split(data, \n",
    "                                                                    labels, \n",
    "                                                                    test_size=.2, \n",
    "                                                                    random_state=2024)"
   ]
  },
  {
   "cell_type": "code",
   "execution_count": null,
   "id": "c7f7a145-982d-44b9-8e8d-93481dc2903b",
   "metadata": {},
   "outputs": [],
   "source": [
    "std_scaler = preprocessing.StandardScaler().fit(X_train)\n",
    "X_train_scaled = std_scaler.transform(X_train)\n",
    "X_test_scaled = std_scaler.transform(X_test)"
   ]
  },
  {
   "cell_type": "markdown",
   "id": "dc9d42d8-81e3-4a26-a6e2-f42878936a01",
   "metadata": {},
   "source": [
    "We will now calculate the _accuracy_ of an SVM on the training set and on the test set for several values ​​of `gamma`:"
   ]
  },
  {
   "cell_type": "code",
   "execution_count": null,
   "id": "0a376ab3-7d59-46b9-8f43-63a7e85aa40a",
   "metadata": {},
   "outputs": [],
   "source": [
    "gamma_values = np.linspace(0.01, 200, 20)"
   ]
  },
  {
   "cell_type": "code",
   "execution_count": null,
   "id": "0c4903f1-e7de-4525-8b4f-ba048731e27c",
   "metadata": {},
   "outputs": [],
   "source": [
    "acc_train, acc_test = list(), list()\n",
    "\n",
    "for param in gamma_values:\n",
    "    # Initialisation\n",
    "    clf = svm.SVC(kernel='rbf', C=10, gamma=param)\n",
    "    # Training\n",
    "    clf.fit(X_train_scaled, y_train)\n",
    "    # Accuracy on training set\n",
    "    acc_train.append(clf.score(X_train_scaled, y_train))\n",
    "    # Accuracy on test set\n",
    "    acc_test.append(clf.score(X_test_scaled, y_test))"
   ]
  },
  {
   "cell_type": "markdown",
   "id": "594f6a6f-6eab-4581-9cfa-f217becdbd71",
   "metadata": {},
   "source": [
    "Let's plot the performance as a function of the tested `gamma` values."
   ]
  },
  {
   "cell_type": "code",
   "execution_count": null,
   "id": "d0c79662-1ae1-4f71-84ed-4aae9035f990",
   "metadata": {},
   "outputs": [],
   "source": [
    "plt.plot(gamma_values, acc_train, label='training', lw=2)\n",
    "plt.plot(gamma_values, acc_test, label='test', lw=2)\n",
    "\n",
    "# add a legend\n",
    "plt.legend(loc='best')\n",
    "\n",
    "# format the plot\n",
    "plt.xlabel(\"Gamma\")\n",
    "plt.ylabel(\"Accuracy\")\n",
    "plt.tight_layout()\n",
    "\n",
    "plt.show()"
   ]
  },
  {
   "cell_type": "markdown",
   "id": "2eefd687-347a-42f7-8bc3-d5bb0016c141",
   "metadata": {},
   "source": [
    "# Q21\n",
    "\n",
    "__Question 21:__ Is there overfitting? For what gamma values?\n",
    "\n",
    "__Answer 21:__ "
   ]
  },
  {
   "cell_type": "markdown",
   "id": "9e835c66-282e-4d75-845a-859be41b419b",
   "metadata": {},
   "source": [
    "#### Selection of gamma and C by cross-validation"
   ]
  },
  {
   "cell_type": "markdown",
   "id": "5a05bf33-c1a5-4f15-a700-44ab5238a83e",
   "metadata": {},
   "source": [
    "We will now select `gamma` and `C` by cross-validation on the training set. Let's start by defining the grid:"
   ]
  },
  {
   "cell_type": "code",
   "execution_count": null,
   "id": "1edf1428-7122-4caa-8bb4-95fa56cb5919",
   "metadata": {},
   "outputs": [],
   "source": [
    "gamma_values = np.logspace(-1, 3, 10)\n",
    "C_values = np.array([1., 10., 100., 500, 1000])"
   ]
  },
  {
   "cell_type": "markdown",
   "id": "77113b6e-6008-436e-8da3-25435944be8d",
   "metadata": {},
   "source": [
    "We can now use [GridSearchCV](https://scikit-learn.org/stable/modules/generated/sklearn.model_selection.GridSearchCV.html):"
   ]
  },
  {
   "cell_type": "code",
   "execution_count": null,
   "id": "8df3c913-1ddb-435a-9e7a-43ff38df5037",
   "metadata": {},
   "outputs": [],
   "source": [
    "# Instantiation of a GridSearchCV object\n",
    "grid_svc = model_selection.GridSearchCV(svm.SVC(kernel='rbf'), # predictor to evaluate\n",
    "                                       {'gamma': gamma_values, 'C': C_values}, # dictionary of hyperparameter values\n",
    "                                       cv=5, # use 5 fold cross validation\n",
    "                                       scoring='accuracy' # performance evaluation metric\n",
    "                                       )"
   ]
  },
  {
   "cell_type": "code",
   "execution_count": null,
   "id": "62919b1e-3e26-43d9-84a6-489d6f27cff2",
   "metadata": {},
   "outputs": [],
   "source": [
    "%%time\n",
    "\n",
    "# Using this object on training data\n",
    "grid_svc.fit(X_train_scaled, y_train)"
   ]
  },
  {
   "cell_type": "markdown",
   "id": "b71fb3d7-caa0-427c-8ed7-d976f04c653b",
   "metadata": {},
   "source": [
    "The optimal value of the hyperparameters is given by:"
   ]
  },
  {
   "cell_type": "code",
   "execution_count": null,
   "id": "50634637-618c-4688-b03c-a51517b39e40",
   "metadata": {},
   "outputs": [],
   "source": [
    "print(grid_svc.best_params_)"
   ]
  },
  {
   "cell_type": "markdown",
   "id": "029eac74-b0e0-4ec3-b104-aca034943cf9",
   "metadata": {},
   "source": [
    "Let's visualize the accuracy as a function of `C` and `gamma`:"
   ]
  },
  {
   "cell_type": "code",
   "execution_count": null,
   "id": "20eaebbc-b532-4de8-972b-351bcda57606",
   "metadata": {},
   "outputs": [],
   "source": [
    "plt.figure(figsize=(8, 8))\n",
    "\n",
    "# reorganize the results of the grid search\n",
    "scores = grid_svc.cv_results_['mean_test_score'].reshape(len(C_values), len(gamma_values))\n",
    "\n",
    "# heatmap\n",
    "plt.imshow(scores, interpolation='none', cmap=\"RdBu_r\")\n",
    "\n",
    "# colorbar\n",
    "plt.colorbar()\n",
    "\n",
    "# Legend\n",
    "plt.title(\"Accuracy of a SVM in cross-validation\")\n",
    "plt.ylabel(\"C\")\n",
    "plt.xlabel(\"Gamma\")\n",
    "plt.xlim((-0.5, 3.5))\n",
    "plt.yticks(np.arange(len(C_values)), C_values)\n",
    "plt.xticks(np.arange(len(gamma_values)), [\"%.2f\" % x for x in gamma_values], rotation=90)\n",
    "plt.tight_layout()"
   ]
  },
  {
   "cell_type": "markdown",
   "id": "e4492e79-b8cb-4d06-90b0-852c7d5792f9",
   "metadata": {
    "tags": []
   },
   "source": [
    "#### Performance of SVM with optimal hyperparameter on the test set"
   ]
  },
  {
   "cell_type": "code",
   "execution_count": null,
   "id": "8bcf7513-74a2-425b-80c1-3678aaafec1d",
   "metadata": {},
   "outputs": [],
   "source": [
    "svc_best = grid_svc.best_estimator_"
   ]
  },
  {
   "cell_type": "code",
   "execution_count": null,
   "id": "19c1ccbc-2172-48df-b3bc-7c1e8b98d50e",
   "metadata": {},
   "outputs": [],
   "source": [
    "print(\"Score on the Gaussian kernel SVM test set (optimized C and gamma):%.2f\" % svc_best.score(X_test_scaled, y_test))"
   ]
  },
  {
   "cell_type": "code",
   "execution_count": null,
   "id": "56f85c54-3bd0-4919-93b9-d32d8ac66535",
   "metadata": {},
   "outputs": [],
   "source": [
    "metrics.ConfusionMatrixDisplay.from_predictions(y_test, svc_best.predict(X_test_scaled))"
   ]
  },
  {
   "cell_type": "markdown",
   "id": "15350a20-ad00-45e5-89b2-6a645efeb61d",
   "metadata": {},
   "source": [
    "Alternatively :"
   ]
  },
  {
   "cell_type": "code",
   "execution_count": null,
   "id": "f381c434-25c3-4edc-8d91-b9d5a7131afc",
   "metadata": {},
   "outputs": [],
   "source": [
    "metrics.confusion_matrix(y_test, svc_best.predict(X_test_scaled))"
   ]
  },
  {
   "cell_type": "markdown",
   "id": "0b9eed05-068a-4c4f-916f-b3bef716704b",
   "metadata": {},
   "source": [
    "## 7. Nonlinear kernel SVM on a simpler problem"
   ]
  },
  {
   "cell_type": "code",
   "execution_count": null,
   "id": "3cb5b9fc-1051-4082-9c9d-c782527498b6",
   "metadata": {},
   "outputs": [],
   "source": [
    "labels = penguins_labels[penguins_labels[\"species_int\"].isin([0,1])]\n",
    "labels = np.array(labels[\"species_int\"])\n",
    "print(\"shape de y:\", labels.shape)\n",
    "\n",
    "data = penguins_features[penguins_labels[\"species_int\"].isin([0,1])] \n",
    "data = np.array(data[[\"body_mass_g\", \"bill_length_mm\"]])\n",
    "print(\"shape de X:\", data.shape)"
   ]
  },
  {
   "cell_type": "code",
   "execution_count": null,
   "id": "4f85c998-86de-4efa-8774-f0c9de67b529",
   "metadata": {},
   "outputs": [],
   "source": [
    "X_train, X_test, y_train, y_test = model_selection.train_test_split(data, \n",
    "                                                                    labels, \n",
    "                                                                    test_size=.2, \n",
    "                                                                    random_state=21)"
   ]
  },
  {
   "cell_type": "code",
   "execution_count": null,
   "id": "11035420-cf37-410f-8b57-b09ac268a8f2",
   "metadata": {},
   "outputs": [],
   "source": [
    "std_scaler = preprocessing.StandardScaler().fit(X_train)\n",
    "X_train_scaled = std_scaler.transform(X_train)\n",
    "X_test_scaled = std_scaler.transform(X_test)"
   ]
  },
  {
   "cell_type": "code",
   "execution_count": null,
   "id": "6a8bdbf0-5730-48e3-80e6-4a1f9f2f3434",
   "metadata": {},
   "outputs": [],
   "source": [
    "plt.figure(figsize=(8, 6))\n",
    "\n",
    "# afficher les données (pingouins Adelie)\n",
    "adelie_indices = np.where(y_train==0)[0]\n",
    "adelie = plt.scatter(X_train_scaled[adelie_indices][:, 0], \n",
    "                    X_train_scaled[adelie_indices][:, 1], \n",
    "                    label = 'Adelie',\n",
    "                    cmap=plt.cm.Paired)\n",
    "\n",
    "# afficher les données (pingouins Chinstrap)\n",
    "gentoo_indices = np.where(y_train==1)[0]\n",
    "gentoo = plt.scatter(X_train_scaled[gentoo_indices][:, 0], \n",
    "                    X_train_scaled[gentoo_indices][:, 1], \n",
    "                    label = 'Chinstrap',\n",
    "                    cmap=plt.cm.Paired)\n",
    "\n",
    "# Légende\n",
    "plt.legend()\n",
    "plt.xlabel(\"Body mass (centered-reduced)\")\n",
    "plt.ylabel(\"Bill length (centered-reduced)\")\n",
    "plt.title(\"Centered-reduced data\")\n",
    "plt.tight_layout()"
   ]
  },
  {
   "cell_type": "code",
   "execution_count": null,
   "id": "525be798-2a44-4759-a12f-f6bcebc7cb29",
   "metadata": {},
   "outputs": [],
   "source": [
    "gamma_values = np.logspace(-1, 3, 10)\n",
    "C_values = np.array([1., 10., 100., 500, 1000])"
   ]
  },
  {
   "cell_type": "markdown",
   "id": "5a2133c9-feca-4b57-8a0d-f2b33176a6ef",
   "metadata": {},
   "source": [
    "We can now use [GridSearchCV](https://scikit-learn.org/stable/modules/generated/sklearn.model_selection.GridSearchCV.html):"
   ]
  },
  {
   "cell_type": "code",
   "execution_count": null,
   "id": "77a375f3-5d8e-44b6-952e-e1610c026382",
   "metadata": {},
   "outputs": [],
   "source": [
    "# Instantiating a GridSearchCV object\n",
    "grid_svc = model_selection.GridSearchCV(svm.SVC(kernel='rbf'), # predictor to be evaluated\n",
    "                                       {'gamma': gamma_values, 'C': C_values}, # hyperparameter value dictionary\n",
    "                                       cv=5, # use 5 fold cross validation\n",
    "                                       scoring='accuracy' # performance evaluation metric\n",
    "                                       )"
   ]
  },
  {
   "cell_type": "code",
   "execution_count": null,
   "id": "ca832642-0401-4cf3-9ea8-08c372e4f7fa",
   "metadata": {},
   "outputs": [],
   "source": [
    "%%time\n",
    "\n",
    "# Using this object on training data\n",
    "grid_svc.fit(X_train_scaled, y_train)"
   ]
  },
  {
   "cell_type": "markdown",
   "id": "ad9ef91d-2d4c-46e5-b27d-2f79e12ea695",
   "metadata": {},
   "source": [
    "The optimal value of the hyperparameters is given by:"
   ]
  },
  {
   "cell_type": "code",
   "execution_count": null,
   "id": "4a4cc5bb-1337-4dd8-a92e-2014d80bb546",
   "metadata": {},
   "outputs": [],
   "source": [
    "print(grid_svc.best_params_)"
   ]
  },
  {
   "cell_type": "code",
   "execution_count": null,
   "id": "d078cb62-f360-43c6-8ed2-f0775e811028",
   "metadata": {},
   "outputs": [],
   "source": [
    "# standardization (center-reduce)\n",
    "std_scaler = preprocessing.StandardScaler().fit(data)\n",
    "data_scaled = std_scaler.transform(data)\n",
    "\n",
    "\n",
    "GramMatrix = metrics.pairwise.rbf_kernel(data_scaled, gamma=grid_svc.best_params_['gamma'])\n",
    "GramMatrix_scaled = center_and_normalise_kernel(GramMatrix)\n",
    "\n",
    "# heatmap + color map\n",
    "fig, ax = plt.subplots(figsize=(5, 5))\n",
    "plot = ax.imshow(GramMatrix_scaled) \n",
    "\n",
    "# set axes boundaries\n",
    "ax.set_xlim([0, data.shape[0]]) ; ax.set_ylim([0, data_scaled.shape[0]])\n",
    "\n",
    "# flip the y-axis\n",
    "ax.invert_yaxis() ; ax.xaxis.tick_top()\n",
    "\n",
    "# plot colorbar to the right\n",
    "plt.colorbar(plot, pad=0.1, fraction=0.04)"
   ]
  },
  {
   "cell_type": "markdown",
   "id": "0f09b47e-ca7a-424f-ac24-80dbbe543c6b",
   "metadata": {},
   "source": [
    "Let's visualize the accuracy as a function of `C` and `gamma`:"
   ]
  },
  {
   "cell_type": "code",
   "execution_count": null,
   "id": "92b63700-8dfd-4007-b391-a3669886f6a7",
   "metadata": {},
   "outputs": [],
   "source": [
    "plt.figure(figsize=(8, 8))\n",
    "\n",
    "# réarrangement des résultats\n",
    "scores = grid_svc.cv_results_['mean_test_score'].reshape(len(C_values), len(gamma_values))\n",
    "\n",
    "# heatmap\n",
    "plt.imshow(scores, interpolation='none', cmap=\"RdBu_r\")\n",
    "\n",
    "# colorbar\n",
    "plt.colorbar()\n",
    "\n",
    "# Légende\n",
    "plt.title(\"Accuracy of a SVM in cross-validation\")\n",
    "plt.ylabel(\"C\")\n",
    "plt.xlabel(\"Gamma\")\n",
    "plt.xlim((-0.5, 3.5))\n",
    "plt.yticks(np.arange(len(C_values)), C_values)\n",
    "plt.xticks(np.arange(len(gamma_values)), [\"%.2f\" % x for x in gamma_values], rotation=90)\n",
    "plt.tight_layout()"
   ]
  },
  {
   "cell_type": "code",
   "execution_count": null,
   "id": "762ed463-ce22-4b02-ac93-ded3696c22e9",
   "metadata": {},
   "outputs": [],
   "source": [
    "svc_best = grid_svc.best_estimator_"
   ]
  },
  {
   "cell_type": "code",
   "execution_count": null,
   "id": "3942b4a9-a508-4ca0-9902-5fa9161f207a",
   "metadata": {},
   "outputs": [],
   "source": [
    "plt.figure(figsize=(8, 6))\n",
    "\n",
    "# show data (pingouins Adelie)\n",
    "adelie_indices = np.where(y_train==0)[0]\n",
    "adelie = plt.scatter(X_train_scaled[adelie_indices][:, 0], \n",
    "                    X_train_scaled[adelie_indices][:, 1], \n",
    "                    label = 'Adelie',\n",
    "                    cmap=plt.cm.Paired)\n",
    "\n",
    "# show data (pingouins Chinstrap)\n",
    "gentoo_indices = np.where(y_train==1)[0]\n",
    "gentoo = plt.scatter(X_train_scaled[gentoo_indices][:, 0], \n",
    "                    X_train_scaled[gentoo_indices][:, 1], \n",
    "                    label = 'Chinstrap',\n",
    "                    cmap=plt.cm.Paired)\n",
    "\n",
    "\n",
    "# Frame limits\n",
    "ax = plt.gca()\n",
    "xlim = ax.get_xlim()\n",
    "ylim = ax.get_ylim()\n",
    "\n",
    "# Mark the support vectors with a cross\n",
    "ax.scatter(svc_best.support_vectors_[:, 0], \n",
    "           svc_best.support_vectors_[:, 1], \n",
    "           linewidth=1, \n",
    "           marker='x', \n",
    "           color='k')\n",
    "\n",
    "# Grid of points on which to apply the model\n",
    "xx = np.linspace(xlim[0], xlim[1], 30)\n",
    "yy = np.linspace(ylim[0], ylim[1], 30)\n",
    "YY, XX = np.meshgrid(yy, xx)\n",
    "xy = np.vstack([XX.ravel(), YY.ravel()]).T\n",
    "# Predict for the grid points\n",
    "Z = svc_best.decision_function(xy).reshape(XX.shape)\n",
    "\n",
    "# Show decision boundary and margin\n",
    "ax.contour(XX, YY, Z, colors='k', levels=[-1, 0, 1], \n",
    "           alpha=0.5, linestyles=['--', '-', '--'])\n",
    "\n",
    "# Legend\n",
    "plt.legend()\n",
    "plt.xlabel(\"Body mass (centered-reduced)\")\n",
    "plt.ylabel(\"Bill length (centered-reduced)\")\n",
    "plt.title(f\"Decision boundary of the Gaussian kernel SVM (C={svc_best.C}, Gamma={svc_best.gamma: .2f})\")\n",
    "plt.tight_layout()"
   ]
  },
  {
   "cell_type": "code",
   "execution_count": null,
   "id": "2cc45916-3528-4361-b01b-7d62444af114",
   "metadata": {},
   "outputs": [],
   "source": [
    "print( \"Score on the Gaussian kernel SVM test set (optimized C and gamma):%.2f\" % svc_best.score(X_test_scaled, y_test))"
   ]
  },
  {
   "cell_type": "code",
   "execution_count": null,
   "id": "bb057d73-c010-4e5f-aae3-5ea7e943779d",
   "metadata": {},
   "outputs": [],
   "source": [
    "metrics.ConfusionMatrixDisplay.from_predictions(y_test, svc_best.predict(X_test_scaled))"
   ]
  },
  {
   "cell_type": "markdown",
   "id": "068b1de8-a6f8-4de6-848f-380dca59c373",
   "metadata": {},
   "source": [
    "Alternatively:"
   ]
  },
  {
   "cell_type": "code",
   "execution_count": null,
   "id": "4c43d9ba-db8f-47ea-976b-eea6661ab53a",
   "metadata": {},
   "outputs": [],
   "source": [
    "metrics.confusion_matrix(y_test, svc_best.predict(X_test_scaled))"
   ]
  },
  {
   "cell_type": "markdown",
   "id": "3a41e5ee",
   "metadata": {},
   "source": [
    "# Q22: Application\n",
    "\n",
    "### 1) SVM on 4 features"
   ]
  },
  {
   "cell_type": "markdown",
   "id": "caad95d7",
   "metadata": {},
   "source": [
    "Select the best SVM parameters for classification with the 4 features (*bill_depth_mm*,  *bill_length_mm*, *flipper_length_mm* and *body_mass_g*).\n",
    "\n",
    "__Question :__ Train a classification SVM to separate the species Adelie vs Chinstrap. Train your SVM in cross-validation on the training set. What parameters can you vary? What is the performance of your optimal model _on the test set_? "
   ]
  },
  {
   "cell_type": "code",
   "execution_count": null,
   "id": "f9b5ee0b",
   "metadata": {},
   "outputs": [],
   "source": []
  },
  {
   "cell_type": "markdown",
   "id": "62988517-8474-4c24-ade3-0e5af89e1553",
   "metadata": {
    "tags": []
   },
   "source": [
    "### 2) Find the best pair of variables"
   ]
  },
  {
   "cell_type": "markdown",
   "id": "9cc5d77a-6cb2-4730-83d5-e6dc8649b5f4",
   "metadata": {},
   "source": [
    "We can use the `seaborn` package to easily examine pairs of variables two by two and deduce which ones are most useful for separating classes:"
   ]
  },
  {
   "cell_type": "code",
   "execution_count": null,
   "id": "8806e9e6-1864-4cdd-9975-d81471015221",
   "metadata": {},
   "outputs": [],
   "source": [
    "penguins_adelie_chinstrap = pd.concat([penguins_features[penguins_labels[\"species_int\"].isin([0,1])],\n",
    "                                    penguins_labels[penguins_labels[\"species_int\"].isin([0,1])]],\n",
    "                                     axis = 1)"
   ]
  },
  {
   "cell_type": "code",
   "execution_count": null,
   "id": "cc5b2aae-2190-4db0-91e3-9d959f1565f2",
   "metadata": {},
   "outputs": [],
   "source": [
    "import seaborn as sns\n",
    "sns.pairplot(penguins_adelie_chinstrap, hue=\"species_int\",palette=\"bright\")"
   ]
  },
  {
   "cell_type": "markdown",
   "id": "bf1b0ce9",
   "metadata": {},
   "source": [
    "__Question :__  Select the best 2 features and train a classification SVM to separate the species Adelie vs Chinstrap. \n",
    "\n",
    "Compare to the precedent results.\n",
    "__Answer :__  "
   ]
  },
  {
   "cell_type": "code",
   "execution_count": null,
   "id": "fe350f16",
   "metadata": {},
   "outputs": [],
   "source": []
  },
  {
   "cell_type": "markdown",
   "id": "7e1817d3",
   "metadata": {},
   "source": [
    "### 3) Multiclass SVM (bonus)\n",
    "\n",
    "__Question:__ How would you build a multi-class model, based on SVMs, that assigns a new observation to one of the three species Adélie (0), Chinstrap (1) or Gentoo (2)? Make a plot of the confident matrix and in 2D to visualize the results.\n"
   ]
  },
  {
   "cell_type": "code",
   "execution_count": null,
   "id": "7b063e54",
   "metadata": {},
   "outputs": [],
   "source": []
  }
 ],
 "metadata": {
  "kernelspec": {
   "display_name": "conplex-dti",
   "language": "python",
   "name": "python3"
  },
  "language_info": {
   "codemirror_mode": {
    "name": "ipython",
    "version": 3
   },
   "file_extension": ".py",
   "mimetype": "text/x-python",
   "name": "python",
   "nbconvert_exporter": "python",
   "pygments_lexer": "ipython3",
   "version": "3.9.16"
  }
 },
 "nbformat": 4,
 "nbformat_minor": 5
}
